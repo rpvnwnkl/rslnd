{
 "cells": [
  {
   "cell_type": "markdown",
   "metadata": {},
   "source": [
    "First, we open the file, previously saved as 'haystack.txt'"
   ]
  },
  {
   "cell_type": "code",
   "execution_count": 23,
   "metadata": {
    "collapsed": false
   },
   "outputs": [],
   "source": [
    "file = open('./haystack.txt')\n"
   ]
  },
  {
   "cell_type": "markdown",
   "metadata": {},
   "source": [
    "The file is read in, creating a giant list of all the lines in the file"
   ]
  },
  {
   "cell_type": "code",
   "execution_count": 24,
   "metadata": {
    "collapsed": false
   },
   "outputs": [],
   "source": [
    "wholehaystack = file.readlines()"
   ]
  },
  {
   "cell_type": "markdown",
   "metadata": {},
   "source": [
    "The list is gone through, the headers for each string are dropped, and then the continuous strings which were wrapped are concatenated"
   ]
  },
  {
   "cell_type": "code",
   "execution_count": 25,
   "metadata": {
    "collapsed": false
   },
   "outputs": [
    {
     "name": "stdout",
     "output_type": "stream",
     "text": [
      "AGCCGATAGAATGGGAGTAATATGTGCTGCCTAGCAGTCTGTGCGAACTTTAGTGGTCCTTGGAGTCTCTTTTAGCACGTCTTAAAAATATGTTGAGTTCTTGATACCTGTAAGATTATGGTATAGATGTGTCTCATGCCCGTGCGTAGTAAGTGTAGGCAGCAACAGCCTCGGGATGTGCGGGGTGTGGATATGTGTGAACGCCGCCGCGATATTCATCCCAACAATGTGCCCCGAAGGGAAAGCGCCGCGATATTCGATGTCACCACGCAGTTGTGCCCTAAGATCGTTCTGCAGCGTAACAGCAGACTACGGGAGTTGACAGTTCGCACGATGGGTTGGGTCTCTAGGCGTCAACAACGGCTTAGCCCGACTCAAGTGATTTCGTTTAACTGTTGTCGCGTGGCACGAGGAGAGGTGACGCGGACTAAATCAGAGCGGCCTACGGGACCCTTTCTAACCAACATCGCATTCTTCATCGTGCTAAAACGACCATGTCGGCTTGCCTAACGGTCTTGACCGGCACCGCATTGCTCCCGTCGTGGTCTAGTTACACGTCCCTGAGAGACAAATTTGTTAAAGGATCTCAACTGATCCTGCATGTTGTATTGCCTGGTATAAAGGCTTTAGACCCAAAGTCGTCTTTTAATTGAAATTAAACCACGTGGGCAAACGACTGCTATTTAAGTTTGTGGTTCAGTTACTCCTAGCTGGGTTATAACGCTTATCCATATGCACAAAAAAGTCTCCGGTGCGCACTTCAACTAGCGCTCTAGGCGGGTTGATCTTTGAGCGCCGATTACCATGTGTAGATATGACAAAGATGTGTTCGCCAGGACAATACGTATGGGTAACAGTGGCGACAAGTGCCTTTGGGGCACATGCGCAGTAGGCCTACAAACCACAGAGCTGAATAGAAGCTTATCGGTTCTAACTCTACTAGCACACTCCGTTGTAACCTTCTAATGGGATGTAGAGCCGGTTCCGCACCCCCTGCGTC\n",
      "hayStack[0] len = 1000\n",
      "100\n"
     ]
    }
   ],
   "source": [
    "hayStack = []\n",
    "for strawLayer in wholehaystack:\n",
    "    if strawLayer[0] != '>':\n",
    "        hayStack[-1] += strawLayer.strip('\\n')\n",
    "    else:\n",
    "        hayStack.append('')\n",
    "print hayStack[0]\n",
    "print 'hayStack[0] len = %s' % len(hayStack[0])\n",
    "print len(hayStack)"
   ]
  },
  {
   "cell_type": "code",
   "execution_count": 26,
   "metadata": {
    "collapsed": false
   },
   "outputs": [
    {
     "name": "stdout",
     "output_type": "stream",
     "text": [
      "longestString = A\n",
      "longestString len = 1\n",
      "longestString = AG\n",
      "longestString len = 2\n",
      "longestString = AGC\n",
      "longestString len = 3\n",
      "longestString = GATA\n",
      "longestString len = 4\n",
      "longestString = GGAGT\n",
      "longestString len = 5\n",
      "longestString = AATATG\n",
      "longestString len = 6\n",
      "longestString = AATATGT\n",
      "longestString len = 7\n",
      "longestString = GTCTGTGC\n",
      "longestString len = 8\n",
      "longestString = GTCTGTGCG\n",
      "longestString len = 9\n",
      "longestString = GTCTGTGCGA\n",
      "longestString len = 10\n",
      "longestString = GTCTGTGCGAA\n",
      "longestString len = 11\n",
      "longestString = GTCTGTGCGAAC\n",
      "longestString len = 12\n",
      "longestString = GTCTGTGCGAACT\n",
      "longestString len = 13\n",
      "longestString = GTCTGTGCGAACTT\n",
      "longestString len = 14\n",
      "longestString = GTCTGTGCGAACTTT\n",
      "longestString len = 15\n",
      "longestString = GTCTGTGCGAACTTTA\n",
      "longestString len = 16\n",
      "longestString = GTCTGTGCGAACTTTAG\n",
      "longestString len = 17\n",
      "longestString = GTCTGTGCGAACTTTAGT\n",
      "longestString len = 18\n",
      "longestString = GTCTGTGCGAACTTTAGTG\n",
      "longestString len = 19\n",
      "longestString = GTCTGTGCGAACTTTAGTGG\n",
      "longestString len = 20\n",
      "longestString = GTCTGTGCGAACTTTAGTGGT\n",
      "longestString len = 21\n",
      "longestString = GTCTGTGCGAACTTTAGTGGTC\n",
      "longestString len = 22\n",
      "longestString = GTCTGTGCGAACTTTAGTGGTCC\n",
      "longestString len = 23\n",
      "longestString = GTCTGTGCGAACTTTAGTGGTCCT\n",
      "longestString len = 24\n",
      "longestString = GTCTGTGCGAACTTTAGTGGTCCTT\n",
      "longestString len = 25\n",
      "longestString = GTCTGTGCGAACTTTAGTGGTCCTTG\n",
      "longestString len = 26\n",
      "longestString = GTCTGTGCGAACTTTAGTGGTCCTTGG\n",
      "longestString len = 27\n",
      "longestString = GTCTGTGCGAACTTTAGTGGTCCTTGGA\n",
      "longestString len = 28\n",
      "longestString = GTCTGTGCGAACTTTAGTGGTCCTTGGAG\n",
      "longestString len = 29\n",
      "longestString = GTCTGTGCGAACTTTAGTGGTCCTTGGAGT\n",
      "longestString len = 30\n",
      "longestString = GTCTGTGCGAACTTTAGTGGTCCTTGGAGTC\n",
      "longestString len = 31\n",
      "longestString = GTCTGTGCGAACTTTAGTGGTCCTTGGAGTCT\n",
      "longestString len = 32\n",
      "longestString = GTCTGTGCGAACTTTAGTGGTCCTTGGAGTCTC\n",
      "longestString len = 33\n",
      "longestString = GTCTGTGCGAACTTTAGTGGTCCTTGGAGTCTCT\n",
      "longestString len = 34\n",
      "longestString = GTCTGTGCGAACTTTAGTGGTCCTTGGAGTCTCTT\n",
      "longestString len = 35\n",
      "longestString = GTCTGTGCGAACTTTAGTGGTCCTTGGAGTCTCTTT\n",
      "longestString len = 36\n",
      "longestString = GTCTGTGCGAACTTTAGTGGTCCTTGGAGTCTCTTTT\n",
      "longestString len = 37\n",
      "longestString = GTCTGTGCGAACTTTAGTGGTCCTTGGAGTCTCTTTTA\n",
      "longestString len = 38\n",
      "longestString = GTCTGTGCGAACTTTAGTGGTCCTTGGAGTCTCTTTTAG\n",
      "longestString len = 39\n",
      "longestString = GTCTGTGCGAACTTTAGTGGTCCTTGGAGTCTCTTTTAGC\n",
      "longestString len = 40\n",
      "longestString = GTCTGTGCGAACTTTAGTGGTCCTTGGAGTCTCTTTTAGCA\n",
      "longestString len = 41\n",
      "longestString = GTCTGTGCGAACTTTAGTGGTCCTTGGAGTCTCTTTTAGCAC\n",
      "longestString len = 42\n",
      "longestString = GTCTGTGCGAACTTTAGTGGTCCTTGGAGTCTCTTTTAGCACG\n",
      "longestString len = 43\n",
      "longestString = GTCTGTGCGAACTTTAGTGGTCCTTGGAGTCTCTTTTAGCACGT\n",
      "longestString len = 44\n",
      "longestString = GTCTGTGCGAACTTTAGTGGTCCTTGGAGTCTCTTTTAGCACGTC\n",
      "longestString len = 45\n",
      "longestString = GTCTGTGCGAACTTTAGTGGTCCTTGGAGTCTCTTTTAGCACGTCT\n",
      "longestString len = 46\n",
      "longestString = GTCTGTGCGAACTTTAGTGGTCCTTGGAGTCTCTTTTAGCACGTCTT\n",
      "longestString len = 47\n",
      "longestString = GTCTGTGCGAACTTTAGTGGTCCTTGGAGTCTCTTTTAGCACGTCTTA\n",
      "longestString len = 48\n",
      "longestString = GTCTGTGCGAACTTTAGTGGTCCTTGGAGTCTCTTTTAGCACGTCTTAA\n",
      "longestString len = 49\n",
      "longestString = GTCTGTGCGAACTTTAGTGGTCCTTGGAGTCTCTTTTAGCACGTCTTAAA\n",
      "longestString len = 50\n",
      "longestString = GTCTGTGCGAACTTTAGTGGTCCTTGGAGTCTCTTTTAGCACGTCTTAAAA\n",
      "longestString len = 51\n",
      "longestString = GTCTGTGCGAACTTTAGTGGTCCTTGGAGTCTCTTTTAGCACGTCTTAAAAA\n",
      "longestString len = 52\n",
      "longestString = GTCTGTGCGAACTTTAGTGGTCCTTGGAGTCTCTTTTAGCACGTCTTAAAAAT\n",
      "longestString len = 53\n",
      "longestString = GTCTGTGCGAACTTTAGTGGTCCTTGGAGTCTCTTTTAGCACGTCTTAAAAATA\n",
      "longestString len = 54\n",
      "longestString = GTCTGTGCGAACTTTAGTGGTCCTTGGAGTCTCTTTTAGCACGTCTTAAAAATAT\n",
      "longestString len = 55\n",
      "longestString = GTCTGTGCGAACTTTAGTGGTCCTTGGAGTCTCTTTTAGCACGTCTTAAAAATATG\n",
      "longestString len = 56\n",
      "longestString = GTCTGTGCGAACTTTAGTGGTCCTTGGAGTCTCTTTTAGCACGTCTTAAAAATATGT\n",
      "longestString len = 57\n",
      "longestString = GTCTGTGCGAACTTTAGTGGTCCTTGGAGTCTCTTTTAGCACGTCTTAAAAATATGTT\n",
      "longestString len = 58\n",
      "longestString = GTCTGTGCGAACTTTAGTGGTCCTTGGAGTCTCTTTTAGCACGTCTTAAAAATATGTTG\n",
      "longestString len = 59\n",
      "longestString = GTCTGTGCGAACTTTAGTGGTCCTTGGAGTCTCTTTTAGCACGTCTTAAAAATATGTTGA\n",
      "longestString len = 60\n",
      "longestString = GTCTGTGCGAACTTTAGTGGTCCTTGGAGTCTCTTTTAGCACGTCTTAAAAATATGTTGAG\n",
      "longestString len = 61\n",
      "longestString = GTCTGTGCGAACTTTAGTGGTCCTTGGAGTCTCTTTTAGCACGTCTTAAAAATATGTTGAGT\n",
      "longestString len = 62\n",
      "longestString = GTCTGTGCGAACTTTAGTGGTCCTTGGAGTCTCTTTTAGCACGTCTTAAAAATATGTTGAGTT\n",
      "longestString len = 63\n",
      "longestString = GTCTGTGCGAACTTTAGTGGTCCTTGGAGTCTCTTTTAGCACGTCTTAAAAATATGTTGAGTTC\n",
      "longestString len = 64\n",
      "longestString = GTCTGTGCGAACTTTAGTGGTCCTTGGAGTCTCTTTTAGCACGTCTTAAAAATATGTTGAGTTCT\n",
      "longestString len = 65\n",
      "longestString = GTCTGTGCGAACTTTAGTGGTCCTTGGAGTCTCTTTTAGCACGTCTTAAAAATATGTTGAGTTCTT\n",
      "longestString len = 66\n",
      "longestString = GTCTGTGCGAACTTTAGTGGTCCTTGGAGTCTCTTTTAGCACGTCTTAAAAATATGTTGAGTTCTTG\n",
      "longestString len = 67\n",
      "longestString = GTCTGTGCGAACTTTAGTGGTCCTTGGAGTCTCTTTTAGCACGTCTTAAAAATATGTTGAGTTCTTGA\n",
      "longestString len = 68\n",
      "longestString = GTCTGTGCGAACTTTAGTGGTCCTTGGAGTCTCTTTTAGCACGTCTTAAAAATATGTTGAGTTCTTGAT\n",
      "longestString len = 69\n",
      "longestString = GTCTGTGCGAACTTTAGTGGTCCTTGGAGTCTCTTTTAGCACGTCTTAAAAATATGTTGAGTTCTTGATA\n",
      "longestString len = 70\n",
      "longestString = GTCTGTGCGAACTTTAGTGGTCCTTGGAGTCTCTTTTAGCACGTCTTAAAAATATGTTGAGTTCTTGATAC\n",
      "longestString len = 71\n",
      "GTCTGTGCGAACTTTAGTGGTCCTTGGAGTCTCTTTTAGCACGTCTTAAAAATATGTTGAGTTCTTGATAC\n"
     ]
    }
   ],
   "source": [
    "hayKey = hayStack[0]\n",
    "start=0\n",
    "stop=1\n",
    "longestString = ''\n",
    "while stop <= len(hayKey):\n",
    "    nextUp = 1\n",
    "    isFound = True\n",
    "    searchKey = hayKey[start:stop]\n",
    "    while nextUp <= (len(hayStack) - 1) and isFound:\n",
    "        if searchKey not in hayStack[nextUp]:\n",
    "            isFound = False\n",
    "        else:\n",
    "            nextUp+=1\n",
    "    if isFound:\n",
    "        if len(searchKey) > len(longestString):\n",
    "            longestString = searchKey\n",
    "            print 'longestString = %s' % longestString\n",
    "            print 'longestString len = %s' % len(longestString)\n",
    "        stop += 1\n",
    "    else:\n",
    "        start += 1\n",
    "        stop = start\n",
    "print longestString\n",
    "    \n",
    "        "
   ]
  },
  {
   "cell_type": "code",
   "execution_count": 27,
   "metadata": {
    "collapsed": false
   },
   "outputs": [
    {
     "name": "stdout",
     "output_type": "stream",
     "text": [
      "GTCTGTGCGAACTTTAGTGGTCCTTGGAGTCTCTTTTAGCACGTCTTAAAAATATGTTGAGTTCTTGATAC\n"
     ]
    }
   ],
   "source": [
    "print longestString"
   ]
  },
  {
   "cell_type": "code",
   "execution_count": null,
   "metadata": {
    "collapsed": true
   },
   "outputs": [],
   "source": []
  }
 ],
 "metadata": {
  "kernelspec": {
   "display_name": "Python 2",
   "language": "python",
   "name": "python2"
  },
  "language_info": {
   "codemirror_mode": {
    "name": "ipython",
    "version": 2
   },
   "file_extension": ".py",
   "mimetype": "text/x-python",
   "name": "python",
   "nbconvert_exporter": "python",
   "pygments_lexer": "ipython2",
   "version": "2.7.11"
  }
 },
 "nbformat": 4,
 "nbformat_minor": 0
}
